{
 "cells": [
  {
   "cell_type": "markdown",
   "metadata": {},
   "source": [
    "# Recommendation Systems - Introduction"
   ]
  },
  {
   "cell_type": "markdown",
   "metadata": {},
   "source": [
    "## Introduction\n",
    "In this section, you'll learn about machine learning algorithms that we encounter every day in our lives:  recommendation systems! "
   ]
  },
  {
   "cell_type": "markdown",
   "metadata": {},
   "source": [
    "## Developing a Recommendation System in PySpark\n",
    "\n",
    "In this section you'll learn about recommendation system modeling approaches and you'll even build your own recommendation system in PySpark! \n",
    "\n",
    "\n",
    "### Recommendation Systems\n",
    "\n",
    "A recommendation system allows predicting the future preference list for a certain customer or user, and recommends the top preference for this user. Examples include: which books would a customer prefer to buy on Amazon, which Netflix movie or series would a user watch next, etc. You'll learn about several different types of recommendation system algorithms and how they work.\n",
    "\n",
    "\n",
    "### Collaborative Filtering with Singular Value Decomposition\n",
    "\n",
    "Collaborative Filtering (CF) is currently the most widely used approach to build recommendation systems. It often uses matrix factorization under the hood, which you'll learn about in this section.\n",
    "\n",
    "### Implementing Recommender Systems with `surprise` \n",
    "\n",
    "`surprise` is a library that is optimized to efficiently create recommendations. You'll get a chance to use this library to code up different implementations of collaborative filtering recommendation systems.\n",
    "\n",
    "### Matrix Factorization with Alternating Least Squares\n",
    "\n",
    "We'll also look at another matrix factorization technique called Alternating Least Squares (ALS). This method can prove to be much more effective and robust than SVD. You'll also learn how ALS is implemented in Spark's machine learning library `ml`.\n",
    "\n",
    "### Building a Recommendation System in PySpark\n",
    "\n",
    "You'll end this section by building your own recommendation system in PySpark using the `MovieLens` rating dataset!\n"
   ]
  },
  {
   "cell_type": "markdown",
   "metadata": {},
   "source": [
    "## Summary\n",
    "\n",
    "In this section, you'll learn the basics of recommendation systems and how to implement them in `surprise` and Spark!"
   ]
  }
 ],
 "metadata": {
  "kernelspec": {
   "display_name": "Python 3",
   "language": "python",
   "name": "python3"
  },
  "language_info": {
   "codemirror_mode": {
    "name": "ipython",
    "version": 3
   },
   "file_extension": ".py",
   "mimetype": "text/x-python",
   "name": "python",
   "nbconvert_exporter": "python",
   "pygments_lexer": "ipython3",
   "version": "3.9.4"
  }
 },
 "nbformat": 4,
 "nbformat_minor": 2
}
